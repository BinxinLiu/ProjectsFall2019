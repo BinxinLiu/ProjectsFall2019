{
  "nbformat": 4,
  "nbformat_minor": 0,
  "metadata": {
    "colab": {
      "name": "projectproposal_4741.ipynb",
      "provenance": [],
      "collapsed_sections": []
    },
    "kernelspec": {
      "name": "python3",
      "display_name": "Python 3"
    }
  },
  "cells": [
    {
      "cell_type": "code",
      "metadata": {
        "id": "c58io6qe5g-X",
        "colab_type": "code",
        "colab": {}
      },
      "source": [
        ""
      ],
      "execution_count": 0,
      "outputs": []
    },
    {
      "cell_type": "markdown",
      "metadata": {
        "id": "AbPpunYe5lS8",
        "colab_type": "text"
      },
      "source": [
        "Project question: What makes a trending Youtube video?\n",
        "\n",
        "More stuff - prove this is important question <br>\n",
        "  could help business or youtube business make more money so important\n",
        "\n",
        "Youtube has become a main source of income for more and more people as the platform continues to rapidly grow. There has been a huge increase in the number of businesses that grew from youtube channels. Ad revenue and product sponsorships are only some examples of the kinds of monetization Youtubers generate their main income from. Their livelihoods depend on them staying popular on this platform and generating more views or reaching a broader audience. For them, predicting what makes a video start trending on Youtube would be vital to their continued success and growth. <br>\n",
        "\n",
        "The first data set we will be looking at is from Kaggle and consists of a list of trending Youtube videos in various countries for roughly 8 months. It consists of information like the titles of trending videos, how many likes or dislikes the videos have, or what channel the video is on.\n",
        "\n",
        "Data set - [Kaggle Youtube Dataset](https://www.kaggle.com/datasnaek/youtube-new/downloads/youtube-new.zip/115)\n"
      ]
    }
  ]
}